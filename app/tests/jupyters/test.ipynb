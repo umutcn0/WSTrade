{
 "cells": [
  {
   "cell_type": "code",
   "execution_count": 2,
   "metadata": {},
   "outputs": [
    {
     "ename": "ImportError",
     "evalue": "attempted relative import with no known parent package",
     "output_type": "error",
     "traceback": [
      "\u001b[0;31m---------------------------------------------------------------------------\u001b[0m",
      "\u001b[0;31mImportError\u001b[0m                               Traceback (most recent call last)",
      "Cell \u001b[0;32mIn[2], line 5\u001b[0m\n\u001b[1;32m      3\u001b[0m \u001b[38;5;28;01mimport\u001b[39;00m \u001b[38;5;21;01mwebsockets\u001b[39;00m\n\u001b[1;32m      4\u001b[0m \u001b[38;5;28;01mfrom\u001b[39;00m \u001b[38;5;21;01mdatetime\u001b[39;00m \u001b[38;5;28;01mimport\u001b[39;00m datetime\n\u001b[0;32m----> 5\u001b[0m \u001b[38;5;28;01mfrom\u001b[39;00m \u001b[38;5;21;01m.\u001b[39;00m\u001b[38;5;21;01m.\u001b[39;00m\u001b[38;5;21;01mmodels\u001b[39;00m\u001b[38;5;21;01m.\u001b[39;00m\u001b[38;5;21;01mmodels\u001b[39;00m \u001b[38;5;28;01mimport\u001b[39;00m PriceData\n\u001b[1;32m      6\u001b[0m \u001b[38;5;28;01mfrom\u001b[39;00m \u001b[38;5;21;01m.\u001b[39;00m\u001b[38;5;21;01m.\u001b[39;00m\u001b[38;5;21;01mservices\u001b[39;00m\u001b[38;5;21;01m.\u001b[39;00m\u001b[38;5;21;01mdatabase\u001b[39;00m \u001b[38;5;28;01mimport\u001b[39;00m db\n\u001b[1;32m      7\u001b[0m \u001b[38;5;28;01mfrom\u001b[39;00m \u001b[38;5;21;01m.\u001b[39;00m\u001b[38;5;21;01m.\u001b[39;00m\u001b[38;5;21;01mservices\u001b[39;00m\u001b[38;5;21;01m.\u001b[39;00m\u001b[38;5;21;01mtrading\u001b[39;00m \u001b[38;5;28;01mimport\u001b[39;00m strategy\n",
      "\u001b[0;31mImportError\u001b[0m: attempted relative import with no known parent package"
     ]
    }
   ],
   "source": [
    "import json\n",
    "import asyncio\n",
    "\n",
    "from datetime import datetime\n",
    "from ..models.models import PriceData\n",
    "from ..services.database import db\n",
    "from ..services.trading import strategy\n",
    "from ..core.config import settings\n",
    "\n",
    "\n",
    "class BinanceWebsocket:\n",
    "    def __init__(self):\n",
    "        self.ws_url = f\"wss://stream.binance.com:9443/ws/{settings.TRADING_PAIR.lower()}@bookTicker\"\n",
    "        self.is_connected = False\n",
    "        self.reconnect_delay = 1\n",
    "        \n",
    "    async def handle_message(self, message):\n",
    "        data = json.loads(message)\n",
    "        price_data = PriceData(\n",
    "            timestamp=datetime.utcnow(),\n",
    "            symbol=settings.TRADING_PAIR,\n",
    "            price=float(data['b']),  # Best bid price\n",
    "            quantity=float(data['B'])  # Best bid quantity\n",
    "        )\n",
    "        \n",
    "        # Save price data\n",
    "        await db.save_price_data(price_data)\n",
    "        \n",
    "        # Generate and execute trading signals\n",
    "        signal = await strategy.generate_signal(settings.TRADING_PAIR, price_data.price)\n",
    "        if signal:\n",
    "            await strategy.execute_signal(signal)\n",
    "            \n",
    "    async def connect(self):\n",
    "        while True:\n",
    "            try:\n",
    "                async with websockets.connect(self.ws_url) as websocket:\n",
    "                    self.is_connected = True\n",
    "                    self.reconnect_delay = 1  # Reset delay on successful connection\n",
    "                    \n",
    "                    while True:\n",
    "                        try:\n",
    "                            message = await websocket.recv()\n",
    "                            await self.handle_message(message)\n",
    "                        except websockets.ConnectionClosed:\n",
    "                            break\n",
    "                            \n",
    "            except Exception as e:\n",
    "                print(f\"WebSocket error: {str(e)}\")\n",
    "                self.is_connected = False\n",
    "                \n",
    "                # Exponential backoff for reconnection\n",
    "                await asyncio.sleep(self.reconnect_delay)\n",
    "                self.reconnect_delay = min(self.reconnect_delay * 2, 60)  # Max delay of 60 seconds\n",
    "                \n",
    "    async def start(self):\n",
    "        await self.connect()\n",
    "        \n",
    "    def is_healthy(self):\n",
    "        return self.is_connected"
   ]
  },
  {
   "cell_type": "code",
   "execution_count": 6,
   "metadata": {},
   "outputs": [
    {
     "name": "stderr",
     "output_type": "stream",
     "text": [
      "/tmp/ipykernel_38694/547783249.py:9: DeprecationWarning: ssl.PROTOCOL_TLS is deprecated\n",
      "  ssl_context = ssl.SSLContext(ssl.PROTOCOL_TLS)\n"
     ]
    },
    {
     "name": "stdout",
     "output_type": "stream",
     "text": [
      "Connected to Binance\n",
      "{'stream': 'btcusdt@kline_1s', 'data': {'e': 'kline', 'E': 1737383249017, 's': 'BTCUSDT', 'k': {'t': 1737383248000, 'T': 1737383248999, 's': 'BTCUSDT', 'i': '1s', 'f': 4436000247, 'L': 4436000255, 'o': '107593.96000000', 'c': '107593.96000000', 'h': '107593.96000000', 'l': '107593.95000000', 'v': '0.04991000', 'n': 9, 'x': True, 'q': '5370.01450790', 'V': '0.04634000', 'Q': '4985.90410640', 'B': '0'}}}\n",
      "{'stream': 'btcusdt@kline_1s', 'data': {'e': 'kline', 'E': 1737383250030, 's': 'BTCUSDT', 'k': {'t': 1737383249000, 'T': 1737383249999, 's': 'BTCUSDT', 'i': '1s', 'f': 4436000256, 'L': 4436000264, 'o': '107593.96000000', 'c': '107593.96000000', 'h': '107593.96000000', 'l': '107593.95000000', 'v': '0.03717000', 'n': 9, 'x': True, 'q': '3999.26748350', 'V': '0.03620000', 'Q': '3894.90135200', 'B': '0'}}}\n",
      "{'stream': 'btcusdt@kline_1s', 'data': {'e': 'kline', 'E': 1737383251014, 's': 'BTCUSDT', 'k': {'t': 1737383250000, 'T': 1737383250999, 's': 'BTCUSDT', 'i': '1s', 'f': 4436000265, 'L': 4436000638, 'o': '107593.96000000', 'c': '107622.62000000', 'h': '107624.23000000', 'l': '107593.95000000', 'v': '3.94706000', 'n': 374, 'x': True, 'q': '424767.13403190', 'V': '3.22356000', 'Q': '346901.22032670', 'B': '0'}}}\n",
      "{'stream': 'btcusdt@kline_1s', 'data': {'e': 'kline', 'E': 1737383252016, 's': 'BTCUSDT', 'k': {'t': 1737383251000, 'T': 1737383251999, 's': 'BTCUSDT', 'i': '1s', 'f': 4436000639, 'L': 4436000862, 'o': '107622.38000000', 'c': '107654.63000000', 'h': '107654.63000000', 'l': '107616.05000000', 'v': '1.78322000', 'n': 224, 'x': True, 'q': '191908.45982040', 'V': '1.76728000', 'Q': '190192.59718520', 'B': '0'}}}\n",
      "{'stream': 'btcusdt@kline_1s', 'data': {'e': 'kline', 'E': 1737383253014, 's': 'BTCUSDT', 'k': {'t': 1737383252000, 'T': 1737383252999, 's': 'BTCUSDT', 'i': '1s', 'f': 4436000863, 'L': 4436000980, 'o': '107654.63000000', 'c': '107645.95000000', 'h': '107654.64000000', 'l': '107645.95000000', 'v': '0.83654000', 'n': 118, 'x': True, 'q': '90053.16728050', 'V': '0.00870000', 'Q': '936.58278200', 'B': '0'}}}\n",
      "{'stream': 'btcusdt@kline_1s', 'data': {'e': 'kline', 'E': 1737383254017, 's': 'BTCUSDT', 'k': {'t': 1737383253000, 'T': 1737383253999, 's': 'BTCUSDT', 'i': '1s', 'f': 4436000981, 'L': 4436001070, 'o': '107645.95000000', 'c': '107633.34000000', 'h': '107645.95000000', 'l': '107633.33000000', 'v': '5.06904000', 'n': 90, 'x': True, 'q': '545631.92528410', 'V': '0.00116000', 'Q': '124.85574990', 'B': '0'}}}\n",
      "{'stream': 'btcusdt@kline_1s', 'data': {'e': 'kline', 'E': 1737383255014, 's': 'BTCUSDT', 'k': {'t': 1737383254000, 'T': 1737383254999, 's': 'BTCUSDT', 'i': '1s', 'f': 4436001071, 'L': 4436001221, 'o': '107633.34000000', 'c': '107649.00000000', 'h': '107649.01000000', 'l': '107633.33000000', 'v': '0.14234000', 'n': 151, 'x': True, 'q': '15321.93579300', 'V': '0.14108000', 'Q': '15186.30228390', 'B': '0'}}}\n",
      "{'stream': 'btcusdt@kline_1s', 'data': {'e': 'kline', 'E': 1737383256022, 's': 'BTCUSDT', 'k': {'t': 1737383255000, 'T': 1737383255999, 's': 'BTCUSDT', 'i': '1s', 'f': 4436001222, 'L': 4436001351, 'o': '107649.01000000', 'c': '107661.63000000', 'h': '107661.63000000', 'l': '107649.00000000', 'v': '0.26413000', 'n': 130, 'x': True, 'q': '28434.95197400', 'V': '0.26006000', 'Q': '27996.82054400', 'B': '0'}}}\n",
      "{'stream': 'btcusdt@kline_1s', 'data': {'e': 'kline', 'E': 1737383257027, 's': 'BTCUSDT', 'k': {'t': 1737383256000, 'T': 1737383256999, 's': 'BTCUSDT', 'i': '1s', 'f': 4436001352, 'L': 4436001378, 'o': '107661.63000000', 'c': '107661.42000000', 'h': '107661.63000000', 'l': '107661.42000000', 'v': '0.16355000', 'n': 27, 'x': True, 'q': '17608.03486340', 'V': '0.00220000', 'Q': '236.85534400', 'B': '0'}}}\n",
      "{'stream': 'btcusdt@kline_1s', 'data': {'e': 'kline', 'E': 1737383258025, 's': 'BTCUSDT', 'k': {'t': 1737383257000, 'T': 1737383257999, 's': 'BTCUSDT', 'i': '1s', 'f': 4436001379, 'L': 4436001473, 'o': '107661.42000000', 'c': '107654.69000000', 'h': '107661.43000000', 'l': '107654.69000000', 'v': '0.30556000', 'n': 95, 'x': True, 'q': '32896.76547720', 'V': '0.00468000', 'Q': '503.84532310', 'B': '0'}}}\n",
      "{'stream': 'btcusdt@kline_1s', 'data': {'e': 'kline', 'E': 1737383259018, 's': 'BTCUSDT', 'k': {'t': 1737383258000, 'T': 1737383258999, 's': 'BTCUSDT', 'i': '1s', 'f': 4436001474, 'L': 4436001482, 'o': '107654.70000000', 'c': '107654.70000000', 'h': '107654.70000000', 'l': '107654.69000000', 'v': '0.00687000', 'n': 9, 'x': True, 'q': '739.58777250', 'V': '0.00522000', 'Q': '561.95753400', 'B': '0'}}}\n"
     ]
    },
    {
     "ename": "CancelledError",
     "evalue": "",
     "output_type": "error",
     "traceback": [
      "\u001b[0;31m---------------------------------------------------------------------------\u001b[0m",
      "\u001b[0;31mCancelledError\u001b[0m                            Traceback (most recent call last)",
      "Cell \u001b[0;32mIn[6], line 36\u001b[0m\n\u001b[1;32m     33\u001b[0m             \u001b[38;5;28mprint\u001b[39m(\u001b[38;5;124m\"\u001b[39m\u001b[38;5;124mWebSocket connection closed\u001b[39m\u001b[38;5;124m\"\u001b[39m)\n\u001b[1;32m     34\u001b[0m             \u001b[38;5;28;01mbreak\u001b[39;00m\n\u001b[0;32m---> 36\u001b[0m \u001b[38;5;28;01mawait\u001b[39;00m connect_to_binance()\n",
      "Cell \u001b[0;32mIn[6], line 14\u001b[0m, in \u001b[0;36mconnect_to_binance\u001b[0;34m()\u001b[0m\n\u001b[1;32m     12\u001b[0m \u001b[38;5;28;01mwhile\u001b[39;00m \u001b[38;5;28;01mTrue\u001b[39;00m:\n\u001b[1;32m     13\u001b[0m     \u001b[38;5;28;01mtry\u001b[39;00m:\n\u001b[0;32m---> 14\u001b[0m         message \u001b[38;5;241m=\u001b[39m \u001b[38;5;28;01mawait\u001b[39;00m websocket\u001b[38;5;241m.\u001b[39mrecv()\n\u001b[1;32m     15\u001b[0m         data \u001b[38;5;241m=\u001b[39m json\u001b[38;5;241m.\u001b[39mloads(message)\n\u001b[1;32m     16\u001b[0m         \u001b[38;5;28mprint\u001b[39m(data)\n",
      "File \u001b[0;32m~/.pyenv/versions/3.11.8/lib/python3.11/site-packages/websockets/legacy/protocol.py:551\u001b[0m, in \u001b[0;36mWebSocketCommonProtocol.recv\u001b[0;34m(self)\u001b[0m\n\u001b[1;32m    547\u001b[0m \u001b[38;5;28mself\u001b[39m\u001b[38;5;241m.\u001b[39m_pop_message_waiter \u001b[38;5;241m=\u001b[39m pop_message_waiter\n\u001b[1;32m    548\u001b[0m \u001b[38;5;28;01mtry\u001b[39;00m:\n\u001b[1;32m    549\u001b[0m     \u001b[38;5;66;03m# If asyncio.wait() is canceled, it doesn't cancel\u001b[39;00m\n\u001b[1;32m    550\u001b[0m     \u001b[38;5;66;03m# pop_message_waiter and self.transfer_data_task.\u001b[39;00m\n\u001b[0;32m--> 551\u001b[0m     \u001b[38;5;28;01mawait\u001b[39;00m asyncio\u001b[38;5;241m.\u001b[39mwait(\n\u001b[1;32m    552\u001b[0m         [pop_message_waiter, \u001b[38;5;28mself\u001b[39m\u001b[38;5;241m.\u001b[39mtransfer_data_task],\n\u001b[1;32m    553\u001b[0m         return_when\u001b[38;5;241m=\u001b[39masyncio\u001b[38;5;241m.\u001b[39mFIRST_COMPLETED,\n\u001b[1;32m    554\u001b[0m         \u001b[38;5;241m*\u001b[39m\u001b[38;5;241m*\u001b[39mloop_if_py_lt_38(\u001b[38;5;28mself\u001b[39m\u001b[38;5;241m.\u001b[39mloop),\n\u001b[1;32m    555\u001b[0m     )\n\u001b[1;32m    556\u001b[0m \u001b[38;5;28;01mfinally\u001b[39;00m:\n\u001b[1;32m    557\u001b[0m     \u001b[38;5;28mself\u001b[39m\u001b[38;5;241m.\u001b[39m_pop_message_waiter \u001b[38;5;241m=\u001b[39m \u001b[38;5;28;01mNone\u001b[39;00m\n",
      "File \u001b[0;32m~/.pyenv/versions/3.11.8/lib/python3.11/asyncio/tasks.py:428\u001b[0m, in \u001b[0;36mwait\u001b[0;34m(fs, timeout, return_when)\u001b[0m\n\u001b[1;32m    425\u001b[0m     \u001b[38;5;28;01mraise\u001b[39;00m \u001b[38;5;167;01mTypeError\u001b[39;00m(\u001b[38;5;124m\"\u001b[39m\u001b[38;5;124mPassing coroutines is forbidden, use tasks explicitly.\u001b[39m\u001b[38;5;124m\"\u001b[39m)\n\u001b[1;32m    427\u001b[0m loop \u001b[38;5;241m=\u001b[39m events\u001b[38;5;241m.\u001b[39mget_running_loop()\n\u001b[0;32m--> 428\u001b[0m \u001b[38;5;28;01mreturn\u001b[39;00m \u001b[38;5;28;01mawait\u001b[39;00m _wait(fs, timeout, return_when, loop)\n",
      "File \u001b[0;32m~/.pyenv/versions/3.11.8/lib/python3.11/asyncio/tasks.py:535\u001b[0m, in \u001b[0;36m_wait\u001b[0;34m(fs, timeout, return_when, loop)\u001b[0m\n\u001b[1;32m    532\u001b[0m     f\u001b[38;5;241m.\u001b[39madd_done_callback(_on_completion)\n\u001b[1;32m    534\u001b[0m \u001b[38;5;28;01mtry\u001b[39;00m:\n\u001b[0;32m--> 535\u001b[0m     \u001b[38;5;28;01mawait\u001b[39;00m waiter\n\u001b[1;32m    536\u001b[0m \u001b[38;5;28;01mfinally\u001b[39;00m:\n\u001b[1;32m    537\u001b[0m     \u001b[38;5;28;01mif\u001b[39;00m timeout_handle \u001b[38;5;129;01mis\u001b[39;00m \u001b[38;5;129;01mnot\u001b[39;00m \u001b[38;5;28;01mNone\u001b[39;00m:\n",
      "\u001b[0;31mCancelledError\u001b[0m: "
     ]
    }
   ],
   "source": [
    "import ssl\n",
    "import websockets\n",
    "import json\n",
    "\n",
    "async def connect_to_binance():\n",
    "    ws_url = \"wss://stream.binance.com:9443/stream?streams=btcusdt@kline_1s\"\n",
    "\n",
    "    \n",
    "    ssl_context = ssl.SSLContext(ssl.PROTOCOL_TLS)\n",
    "    async with websockets.connect(ws_url, ssl=ssl_context) as websocket:\n",
    "        print(\"Connected to Binance\")\n",
    "        while True:\n",
    "            try:\n",
    "                message = await websocket.recv()\n",
    "                data = json.loads(message)\n",
    "                print(data)\n",
    "            except websockets.ConnectionClosed:\n",
    "                break\n",
    "\n",
    "\n",
    "async def test():\n",
    "    ws_url = \"wss://stream.binance.com:9443/stream?streams=btcusdt@kline_5s\"\n",
    "    ssl_context = ssl.SSLContext(ssl.PROTOCOL_TLS)\n",
    "\n",
    "    async with websockets.connect(ws_url, ssl=ssl_context) as websocket:\n",
    "        print(\"Successfully connected to Binance WebSocket\")\n",
    "        \n",
    "    while True:\n",
    "        try:\n",
    "            message = await websocket.recv()\n",
    "            print(message)\n",
    "        except websockets.ConnectionClosed:\n",
    "            print(\"WebSocket connection closed\")\n",
    "            break\n",
    "\n",
    "await connect_to_binance()"
   ]
  },
  {
   "cell_type": "code",
   "execution_count": 8,
   "metadata": {},
   "outputs": [],
   "source": [
    "test = {\"stream\":\"btcusdt@kline_1s\",\"data\":{\"e\":\"kline\",\"E\":1737374706015,\"s\":\"BTCUSDT\",\"k\":{\"t\":1737374705000,\"T\":1737374705999,\"s\":\"BTCUSDT\",\"i\":\"1s\",\"f\":4434768340,\"L\":4434768559,\"o\":\"108479.49000000\",\"c\":\"108491.72000000\",\"h\":\"108491.73000000\",\"l\":\"108479.49000000\",\"v\":\"0.27423000\",\"n\":220,\"x\":True,\"q\":\"29749.77109880\",\"V\":\"0.26946000\",\"Q\":\"29232.29641450\",\"B\":\"0\"}}}\n"
   ]
  },
  {
   "cell_type": "code",
   "execution_count": 9,
   "metadata": {},
   "outputs": [
    {
     "data": {
      "text/plain": [
       "{'e': 'kline',\n",
       " 'E': 1737374706015,\n",
       " 's': 'BTCUSDT',\n",
       " 'k': {'t': 1737374705000,\n",
       "  'T': 1737374705999,\n",
       "  's': 'BTCUSDT',\n",
       "  'i': '1s',\n",
       "  'f': 4434768340,\n",
       "  'L': 4434768559,\n",
       "  'o': '108479.49000000',\n",
       "  'c': '108491.72000000',\n",
       "  'h': '108491.73000000',\n",
       "  'l': '108479.49000000',\n",
       "  'v': '0.27423000',\n",
       "  'n': 220,\n",
       "  'x': True,\n",
       "  'q': '29749.77109880',\n",
       "  'V': '0.26946000',\n",
       "  'Q': '29232.29641450',\n",
       "  'B': '0'}}"
      ]
     },
     "execution_count": 9,
     "metadata": {},
     "output_type": "execute_result"
    }
   ],
   "source": [
    "test[\"data\"]"
   ]
  },
  {
   "cell_type": "code",
   "execution_count": null,
   "metadata": {},
   "outputs": [],
   "source": []
  }
 ],
 "metadata": {
  "kernelspec": {
   "display_name": "Python 3",
   "language": "python",
   "name": "python3"
  },
  "language_info": {
   "codemirror_mode": {
    "name": "ipython",
    "version": 3
   },
   "file_extension": ".py",
   "mimetype": "text/x-python",
   "name": "python",
   "nbconvert_exporter": "python",
   "pygments_lexer": "ipython3",
   "version": "3.11.8"
  }
 },
 "nbformat": 4,
 "nbformat_minor": 2
}
